{
 "cells": [
  {
   "cell_type": "code",
   "execution_count": 1,
   "id": "680db383",
   "metadata": {},
   "outputs": [],
   "source": [
    "import random"
   ]
  },
  {
   "cell_type": "code",
   "execution_count": 2,
   "id": "5a84086b",
   "metadata": {},
   "outputs": [],
   "source": [
    "board = [\n",
    "    [0, 0, 0, 0, 0, 0, 0, 0, 0],\n",
    "    [0, 0, 0, 0, 0, 0, 0, 0, 0],\n",
    "    [0, 0, 0, 0, 0, 0, 0, 0, 0],\n",
    "    [0, 0, 0, 0, 0, 0, 0, 0, 0],\n",
    "    [0, 0, 0, 0, 0, 0, 0, 0, 0],\n",
    "    [0, 0, 0, 0, 0, 0, 0, 0, 0],\n",
    "    [0, 0, 0, 0, 0, 0, 0, 0, 0],\n",
    "    [0, 0, 0, 0, 0, 0, 0, 0, 0],\n",
    "    [0, 0, 0, 0, 0, 0, 0, 0, 0]\n",
    "]\n",
    "\n",
    "def generate_board():\n",
    "    _l = list(range(1, 10))\n",
    "    for row in range(3):\n",
    "        for col in range(3):\n",
    "            _num = random.choice(_l)\n",
    "            board[row][col] = _num\n",
    "            _l.remove(_num)\n",
    "\n",
    "    _l = list(range(1, 10))\n",
    "    for row in range(3, 6):\n",
    "        for col in range(3, 6):\n",
    "            _num = random.choice(_l)\n",
    "            board[row][col] = _num\n",
    "            _l.remove(_num)\n",
    "\n",
    "    _l = list(range(1, 10))\n",
    "    for row in range(6, 9):\n",
    "        for col in range(6, 9):\n",
    "            _num = random.choice(_l)\n",
    "            board[row][col] = _num\n",
    "            _l.remove(_num)\n",
    "            \n",
    "generate_board()"
   ]
  },
  {
   "cell_type": "code",
   "execution_count": 3,
   "id": "5604aabb",
   "metadata": {},
   "outputs": [
    {
     "name": "stdout",
     "output_type": "stream",
     "text": [
      "[7, 4, 2, 0, 0, 0, 0, 0, 0]\n",
      "[3, 1, 6, 0, 0, 0, 0, 0, 0]\n",
      "[9, 5, 8, 0, 0, 0, 0, 0, 0]\n",
      "[0, 0, 0, 9, 1, 4, 0, 0, 0]\n",
      "[0, 0, 0, 8, 5, 6, 0, 0, 0]\n",
      "[0, 0, 0, 2, 7, 3, 0, 0, 0]\n",
      "[0, 0, 0, 0, 0, 0, 1, 7, 3]\n",
      "[0, 0, 0, 0, 0, 0, 9, 4, 5]\n",
      "[0, 0, 0, 0, 0, 0, 6, 8, 2]\n"
     ]
    }
   ],
   "source": [
    "for row in board:\n",
    "    print(row)"
   ]
  },
  {
   "cell_type": "code",
   "execution_count": null,
   "id": "ce7925eb",
   "metadata": {},
   "outputs": [],
   "source": []
  }
 ],
 "metadata": {
  "kernelspec": {
   "display_name": "Python 3 (ipykernel)",
   "language": "python",
   "name": "python3"
  },
  "language_info": {
   "codemirror_mode": {
    "name": "ipython",
    "version": 3
   },
   "file_extension": ".py",
   "mimetype": "text/x-python",
   "name": "python",
   "nbconvert_exporter": "python",
   "pygments_lexer": "ipython3",
   "version": "3.9.7"
  }
 },
 "nbformat": 4,
 "nbformat_minor": 5
}
